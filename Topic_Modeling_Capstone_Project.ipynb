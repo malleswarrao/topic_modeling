{
  "nbformat": 4,
  "nbformat_minor": 0,
  "metadata": {
    "kernelspec": {
      "display_name": "Python 3",
      "language": "python",
      "name": "python3"
    },
    "language_info": {
      "codemirror_mode": {
        "name": "ipython",
        "version": 3
      },
      "file_extension": ".py",
      "mimetype": "text/x-python",
      "name": "python",
      "nbconvert_exporter": "python",
      "pygments_lexer": "ipython3",
      "version": "3.6.6"
    },
    "colab": {
      "name": "Topic_Modeling_Capstone Project.ipynb",
      "provenance": [],
      "collapsed_sections": [],
      "include_colab_link": true
    }
  },
  "cells": [
    {
      "cell_type": "markdown",
      "metadata": {
        "id": "view-in-github",
        "colab_type": "text"
      },
      "source": [
        "<a href=\"https://colab.research.google.com/github/malleswarrao/topic_modeling/blob/main/Topic_Modeling_Capstone_Project.ipynb\" target=\"_parent\"><img src=\"https://colab.research.google.com/assets/colab-badge.svg\" alt=\"Open In Colab\"/></a>"
      ]
    },
    {
      "cell_type": "markdown",
      "metadata": {
        "id": "tOGC-qoyhJeX"
      },
      "source": [
        "# <b><u> Project Title : Extraction/identification of major topics & themes discussed in news articles. </u></b>"
      ]
    },
    {
      "cell_type": "markdown",
      "metadata": {
        "id": "Y06xIdG26kRF"
      },
      "source": [
        "## <b> Problem Description </b>\n",
        "\n",
        "### In this project your task is to identify major themes/topics across a collection of BBC news articles. You can use clustering algorithms such as Latent Dirichlet Allocation (LDA), Latent Semantic Analysis (LSA) etc."
      ]
    },
    {
      "cell_type": "markdown",
      "metadata": {
        "id": "AlLxAtlziMbP"
      },
      "source": [
        "## <b> Data Description </b>\n",
        "\n",
        "### The dataset contains a set of news articles for each major segment consisting of business, entertainment, politics, sports and technology. You need to create an aggregate dataset of all the news articles and perform topic modeling on this dataset. Verify whether these topics correspond to the different tags available."
      ]
    },
    {
      "cell_type": "markdown",
      "metadata": {
        "_cell_guid": "81e6c728-92d6-46b6-848f-2124df59fc92",
        "_uuid": "ea84e7b744d0d5701e0019253aa9905718e55d72",
        "id": "Fn5otZjiuYjz"
      },
      "source": [
        "## <b><u> Exploratory Data Analysis </u></b>\n"
      ]
    },
    {
      "cell_type": "code",
      "metadata": {
        "id": "dByMsuzT8Tnw"
      },
      "source": [
        "import numpy as np\n",
        "import pandas as pd\n",
        "from IPython.display import display\n",
        "from tqdm import tqdm\n",
        "from collections import Counter\n",
        "import ast\n",
        "\n",
        "import matplotlib.pyplot as plt\n",
        "import matplotlib.mlab as mlab\n",
        "import seaborn as sb\n",
        "\n",
        "from sklearn.feature_extraction.text import CountVectorizer\n",
        "from textblob import TextBlob\n",
        "import scipy.stats as stats\n",
        "\n",
        "from sklearn.decomposition import TruncatedSVD\n",
        "from sklearn.decomposition import LatentDirichletAllocation\n",
        "from sklearn.manifold import TSNE\n",
        "from sklearn.feature_extraction.text import CountVectorizer, TfidfVectorizer\n",
        "from sklearn.model_selection import train_test_split, KFold\n",
        "from nltk.corpus import stopwords\n",
        "from nltk.stem.snowball import SnowballStemmer\n",
        "import matplotlib\n",
        "import spacy\n",
        "%matplotlib inline"
      ],
      "execution_count": null,
      "outputs": []
    },
    {
      "cell_type": "code",
      "source": [
        "from google.colab import drive\n",
        "drive.mount('/content/drive')"
      ],
      "metadata": {
        "colab": {
          "base_uri": "https://localhost:8080/"
        },
        "id": "olTcgIGd2czL",
        "outputId": "7f42d73a-4acb-4fb7-d80d-64e0e5a05439"
      },
      "execution_count": null,
      "outputs": [
        {
          "output_type": "stream",
          "name": "stdout",
          "text": [
            "Mounted at /content/drive\n"
          ]
        }
      ]
    },
    {
      "cell_type": "code",
      "source": [
        "from pandas._libs.lib import maybe_indices_to_slice\n",
        "import csv\n",
        "import glob\n",
        "\n",
        "vals = []\n",
        "main_dataframe = pd.DataFrame()\n",
        "final_df = pd.DataFrame()\n",
        "path = '/content/drive/MyDrive/almabetter/business'\n",
        "\n",
        "files = glob.glob(path + '/*.txt')\n",
        "\n",
        "for i in files:\n",
        "  df1 = pd.read_csv(i, sep=\"/n\",on_bad_lines='skip',encoding= 'unicode_escape')\n",
        "  vals.append('business')\n",
        "  main_dataframe = pd.concat([main_dataframe, df1], axis = 1)\n",
        "\n",
        "path = '/content/drive/MyDrive/almabetter/entertainment'\n",
        "\n",
        "files = glob.glob(path + '/*.txt')\n",
        "\n",
        "for i in files:\n",
        "  df1 = pd.read_csv(i, sep=\"/n\",on_bad_lines='skip',encoding= 'unicode_escape')\n",
        "  vals.append('entertainment')\n",
        "  main_dataframe = pd.concat([main_dataframe, df1], axis = 1)\n",
        "\n",
        "path = '/content/drive/MyDrive/almabetter/politics'\n",
        "\n",
        "files = glob.glob(path + '/*.txt')\n",
        "\n",
        "for i in files:\n",
        "  df1 = pd.read_csv(i, sep=\"/n\",on_bad_lines='skip',encoding= 'unicode_escape')\n",
        "  vals.append('politics')\n",
        "  main_dataframe = pd.concat([main_dataframe, df1], axis = 1)\n",
        "\n",
        "path = '/content/drive/MyDrive/almabetter/sport'\n",
        "\n",
        "files = glob.glob(path + '/*.txt')\n",
        "\n",
        "for i in files:\n",
        "  df1 = pd.read_csv(i, sep=\"/n\",on_bad_lines='skip',encoding= 'unicode_escape')\n",
        "  vals.append('sport')\n",
        "  main_dataframe = pd.concat([main_dataframe, df1], axis = 1)\n",
        "\n",
        "path = '/content/drive/MyDrive/almabetter/tech'\n",
        "\n",
        "files = glob.glob(path + '/*.txt')\n",
        "\n",
        "for i in files:\n",
        "  df1 = pd.read_csv(i, sep=\"/n\",on_bad_lines='skip',encoding= 'unicode_escape')\n",
        "  vals.append('tech')\n",
        "  main_dataframe = pd.concat([main_dataframe, df1], axis = 1)\n",
        "main_dataframe_transposed = main_dataframe.T\n",
        "main_dataframe_copy = main_dataframe_transposed\n",
        "main_dataframe_copy = main_dataframe_copy.reset_index()\n",
        "\n",
        "final_df[0] = main_dataframe_copy['index'].values\n",
        "main_dataframe_copy = main_dataframe_copy.iloc[: , 1:]\n",
        "main_dataframe_copy['new'] = main_dataframe_copy.apply(lambda row: ' '.join(row.dropna().astype(str)), axis=1)\n",
        "final_df[1]= main_dataframe_copy['new'].values\n",
        "final_df[2]=vals"
      ],
      "metadata": {
        "colab": {
          "base_uri": "https://localhost:8080/"
        },
        "id": "rVdfOOuY5Dty",
        "outputId": "067d0138-610a-4061-dd22-6f7ef9df52ff"
      },
      "execution_count": null,
      "outputs": [
        {
          "output_type": "stream",
          "name": "stderr",
          "text": [
            "/usr/local/lib/python3.7/dist-packages/pandas/util/_decorators.py:311: ParserWarning: Falling back to the 'python' engine because the 'c' engine does not support regex separators (separators > 1 char and different from '\\s+' are interpreted as regex); you can avoid this warning by specifying engine='python'.\n",
            "  return func(*args, **kwargs)\n"
          ]
        },
        {
          "output_type": "stream",
          "name": "stdout",
          "text": [
            "                                   0  \\\n",
            "0  Yukos unit buyer faces loan claim   \n",
            "1  Ad sales boost Time Warner profit   \n",
            "2   Dollar gains on Greenspan speech   \n",
            "3   US trade gap hits record in 2004   \n",
            "4  High fuel prices hit BA's profits   \n",
            "\n",
            "                                                   1         2  \n",
            "0  The owners of embattled Russian oil giant Yuko...  business  \n",
            "1  Quarterly profits at US media giant TimeWarner...  business  \n",
            "2  The dollar has hit its highest level against t...  business  \n",
            "3  The gap between US exports and imports hit an ...  business  \n",
            "4  British Airways has blamed high fuel prices fo...  business  \n"
          ]
        }
      ]
    },
    {
      "cell_type": "code",
      "source": [
        "final_df=final_df.drop_duplicates()\n"
      ],
      "metadata": {
        "id": "gQMy9QPJvasr"
      },
      "execution_count": null,
      "outputs": []
    },
    {
      "cell_type": "code",
      "source": [
        "final_df[2].value_counts(normalize=True)*100"
      ],
      "metadata": {
        "colab": {
          "base_uri": "https://localhost:8080/"
        },
        "id": "nF-ukEz-vhMC",
        "outputId": "d1604837-2377-4ba1-eb5d-3cfae9134e49"
      },
      "execution_count": null,
      "outputs": [
        {
          "output_type": "execute_result",
          "data": {
            "text/plain": [
              "business         23.670588\n",
              "sport            23.670588\n",
              "politics         18.964706\n",
              "entertainment    17.364706\n",
              "tech             16.329412\n",
              "Name: 2, dtype: float64"
            ]
          },
          "metadata": {},
          "execution_count": 6
        }
      ]
    },
    {
      "cell_type": "code",
      "source": [
        "final_df[1] = final_df[1].astype('str') \n"
      ],
      "metadata": {
        "id": "BBLmRgqLvrya"
      },
      "execution_count": null,
      "outputs": []
    },
    {
      "cell_type": "code",
      "source": [
        "# Removing numbers\n",
        "def remove_numbers(text):\n",
        "\tnumber_pattern = r'\\d+'\n",
        "\twithout_number = re.sub(pattern=number_pattern, repl=\" \", string=text)\n",
        "\treturn without_number"
      ],
      "metadata": {
        "id": "yMIUkB58v3OR"
      },
      "execution_count": null,
      "outputs": []
    },
    {
      "cell_type": "code",
      "source": [
        "import re\n",
        "final_df[1]=final_df[1].apply(remove_numbers)\n"
      ],
      "metadata": {
        "id": "zANywTZGv4hb"
      },
      "execution_count": null,
      "outputs": []
    },
    {
      "cell_type": "code",
      "source": [
        "import warnings \n",
        "plt.figure(figsize=(10,8))\n",
        "warnings.filterwarnings(\"ignore\")\n",
        "sb.countplot(final_df[2], data=final_df)\n",
        "plt.xlabel(\"Type Of News\")\n",
        "plt.ylabel(\"News Count\")\n",
        "plt.title(\"Type Of news Counts\")\n",
        "plt.show()"
      ],
      "metadata": {
        "colab": {
          "base_uri": "https://localhost:8080/",
          "height": 513
        },
        "id": "0zvJ7hV8u1q3",
        "outputId": "1274bac1-9fb4-4af3-e584-d8cfdc4cd39c"
      },
      "execution_count": null,
      "outputs": [
        {
          "output_type": "display_data",
          "data": {
            "text/plain": [
              "<Figure size 720x576 with 1 Axes>"
            ],
            "image/png": "[encoded data removed]"
          },
          "metadata": {
            "needs_background": "light"
          }
        }
      ]
    },
    {
      "cell_type": "code",
      "source": [
        "\n",
        "final_df[3]=final_df[2]\n",
        "print(final_df)\n",
        "print(final_df.shape)\n",
        "iter_val=0\n",
        "for i in range(len(final_df)):\n",
        "  if(final_df.iloc[i,2]=='business'):\n",
        "    if(iter_val<2):\n",
        "      final_df.iloc[i,3]='business_test'\n",
        "      iter_val=iter_val+1"
      ],
      "metadata": {
        "id": "HYo5f1CqBwF_",
        "colab": {
          "base_uri": "https://localhost:8080/"
        },
        "outputId": "588c131c-867b-4025-c394-4ee3bcec727f"
      },
      "execution_count": null,
      "outputs": [
        {
          "output_type": "stream",
          "name": "stdout",
          "text": [
            "                                      0  \\\n",
            "0     Yukos unit buyer faces loan claim   \n",
            "1     Ad sales boost Time Warner profit   \n",
            "2      Dollar gains on Greenspan speech   \n",
            "3      US trade gap hits record in 2004   \n",
            "4     High fuel prices hit BA's profits   \n",
            "...                                 ...   \n",
            "2219    Net fingerprints combat attacks   \n",
            "2220   BT program to beat dialler scams   \n",
            "2221    Bad e-mail habits sustains spam   \n",
            "2222  Microsoft plans 'safer ID' system   \n",
            "2224   Beckham virus spotted on the net   \n",
            "\n",
            "                                                      1         2         3  \n",
            "0     The owners of embattled Russian oil giant Yuko...  business  business  \n",
            "1     Quarterly profits at US media giant TimeWarner...  business  business  \n",
            "2     The dollar has hit its highest level against t...  business  business  \n",
            "3     The gap between US exports and imports hit an ...  business  business  \n",
            "4     British Airways has blamed high fuel prices fo...  business  business  \n",
            "...                                                 ...       ...       ...  \n",
            "2219  Eighty large net service firms have switched o...      tech      tech  \n",
            "2220  BT is introducing two initiatives to help beat...      tech      tech  \n",
            "2221  The 'bad behaviour' of e-mail users is helping...      tech      tech  \n",
            "2222  Microsoft is planning to make Windows and Inte...      tech      tech  \n",
            "2224  Virus writers are trading on interest in David...      tech      tech  \n",
            "\n",
            "[2125 rows x 4 columns]\n",
            "(2125, 4)\n",
            "                                      0  \\\n",
            "0     Yukos unit buyer faces loan claim   \n",
            "1     Ad sales boost Time Warner profit   \n",
            "2      Dollar gains on Greenspan speech   \n",
            "3      US trade gap hits record in 2004   \n",
            "4     High fuel prices hit BA's profits   \n",
            "...                                 ...   \n",
            "2219    Net fingerprints combat attacks   \n",
            "2220   BT program to beat dialler scams   \n",
            "2221    Bad e-mail habits sustains spam   \n",
            "2222  Microsoft plans 'safer ID' system   \n",
            "2224   Beckham virus spotted on the net   \n",
            "\n",
            "                                                      1         2  \\\n",
            "0     The owners of embattled Russian oil giant Yuko...  business   \n",
            "1     Quarterly profits at US media giant TimeWarner...  business   \n",
            "2     The dollar has hit its highest level against t...  business   \n",
            "3     The gap between US exports and imports hit an ...  business   \n",
            "4     British Airways has blamed high fuel prices fo...  business   \n",
            "...                                                 ...       ...   \n",
            "2219  Eighty large net service firms have switched o...      tech   \n",
            "2220  BT is introducing two initiatives to help beat...      tech   \n",
            "2221  The 'bad behaviour' of e-mail users is helping...      tech   \n",
            "2222  Microsoft is planning to make Windows and Inte...      tech   \n",
            "2224  Virus writers are trading on interest in David...      tech   \n",
            "\n",
            "                  3  \n",
            "0     business_test  \n",
            "1     business_test  \n",
            "2          business  \n",
            "3          business  \n",
            "4          business  \n",
            "...             ...  \n",
            "2219           tech  \n",
            "2220           tech  \n",
            "2221           tech  \n",
            "2222           tech  \n",
            "2224           tech  \n",
            "\n",
            "[2125 rows x 4 columns]\n"
          ]
        }
      ]
    },
    {
      "cell_type": "code",
      "source": [
        "iter_val=0\n",
        "for i in range(len(final_df)):\n",
        "  # print(final_df.iloc[i,])\n",
        "  if(final_df.iloc[i,2]=='entertainment'):\n",
        "    if(iter_val<2):\n",
        "      final_df.iloc[i,3]='entertainment_test'\n",
        "      iter_val=iter_val+1\n",
        "iter_val=0\n",
        "for i in range(len(final_df)):\n",
        "  # print(final_df.iloc[i,])\n",
        "  if(final_df.iloc[i,2]=='politics'):\n",
        "    if(iter_val<2):\n",
        "      final_df.iloc[i,3]='politics_test'\n",
        "      iter_val=iter_val+1\n",
        "iter_val=0\n",
        "for i in range(len(final_df)):\n",
        "  # print(final_df.iloc[i,])\n",
        "  if(final_df.iloc[i,2]=='sport'):\n",
        "    if(iter_val<2):\n",
        "      final_df.iloc[i,3]='sport_test'\n",
        "      iter_val=iter_val+1\n",
        "iter_val=0\n",
        "for i in range(len(final_df)):\n",
        "  # print(final_df.iloc[i,])\n",
        "  if(final_df.iloc[i,2]=='tech'):\n",
        "    if(iter_val<2):\n",
        "      final_df.iloc[i,3]='tech_test'\n",
        "      iter_val=iter_val+1\n",
        "print(final_df.shape)"
      ],
      "metadata": {
        "colab": {
          "base_uri": "https://localhost:8080/"
        },
        "id": "-H1FWKSW0J8K",
        "outputId": "2b46fe4a-1339-4d0f-f15e-6ebdc01f31a0"
      },
      "execution_count": null,
      "outputs": [
        {
          "output_type": "stream",
          "name": "stdout",
          "text": [
            "(2125, 4)\n"
          ]
        }
      ]
    },
    {
      "cell_type": "code",
      "source": [
        "bt_df = pd.DataFrame()\n",
        "bt_df = final_df[final_df[3] == 'business_test']\n",
        "print(bt_df)"
      ],
      "metadata": {
        "colab": {
          "base_uri": "https://localhost:8080/"
        },
        "id": "5y1pNijf2nHL",
        "outputId": "df0bcd2f-2f87-4e66-b899-edb19eb76bd8"
      },
      "execution_count": null,
      "outputs": [
        {
          "output_type": "stream",
          "name": "stdout",
          "text": [
            "                                   0  \\\n",
            "0  Yukos unit buyer faces loan claim   \n",
            "1  Ad sales boost Time Warner profit   \n",
            "\n",
            "                                                   1         2              3  \n",
            "0  The owners of embattled Russian oil giant Yuko...  business  business_test  \n",
            "1  Quarterly profits at US media giant TimeWarner...  business  business_test  \n"
          ]
        }
      ]
    },
    {
      "cell_type": "code",
      "source": [
        "final_df.drop(final_df.index[final_df[3] == 'business_test'], inplace=True)"
      ],
      "metadata": {
        "id": "WTWZyPOZ3EM6"
      },
      "execution_count": null,
      "outputs": []
    },
    {
      "cell_type": "code",
      "source": [
        "et_df = pd.DataFrame()\n",
        "et_df = final_df[final_df[3] == 'entertainment_test']\n",
        "print(et_df)\n",
        "final_df.drop(final_df.index[final_df[3] == 'entertainment_test'], inplace=True)"
      ],
      "metadata": {
        "colab": {
          "base_uri": "https://localhost:8080/"
        },
        "id": "tIhTY1vCrf5A",
        "outputId": "f9c7ca6d-05fe-4467-e452-55b4d3fda574"
      },
      "execution_count": null,
      "outputs": [
        {
          "output_type": "stream",
          "name": "stdout",
          "text": [
            "                                          0  \\\n",
            "510        Gallery unveils interactive tree   \n",
            "511  Arthur Hailey: King of the bestsellers   \n",
            "\n",
            "                                                     1              2  \\\n",
            "510  A Christmas tree that can receive text message...  entertainment   \n",
            "511  Novelist Arthur Hailey, who has died at the ag...  entertainment   \n",
            "\n",
            "                      3  \n",
            "510  entertainment_test  \n",
            "511  entertainment_test  \n"
          ]
        }
      ]
    },
    {
      "cell_type": "code",
      "source": [
        "pt_df = pd.DataFrame()\n",
        "pt_df = final_df[final_df[3] == 'politics_test']\n",
        "print(pt_df)\n",
        "final_df.drop(final_df.index[final_df[3] == 'politics_test'], inplace=True)"
      ],
      "metadata": {
        "colab": {
          "base_uri": "https://localhost:8080/"
        },
        "id": "t2oLxfmit8OW",
        "outputId": "a7977458-f5f5-4908-c729-c5243dc431d1"
      },
      "execution_count": null,
      "outputs": [
        {
          "output_type": "stream",
          "name": "stdout",
          "text": [
            "                                   0  \\\n",
            "896  Fox attacks Blair's Tory 'lies'   \n",
            "897        Labour chooses Manchester   \n",
            "\n",
            "                                                     1         2  \\\n",
            "896  Tony Blair lied when he took the UK to war so ...  politics   \n",
            "897  The Labour Party will hold its   autumn confer...  politics   \n",
            "\n",
            "                 3  \n",
            "896  politics_test  \n",
            "897  politics_test  \n"
          ]
        }
      ]
    },
    {
      "cell_type": "code",
      "source": [
        "st_df = pd.DataFrame()\n",
        "st_df = final_df[final_df[3] == 'sport_test']\n",
        "print(st_df)\n",
        "final_df.drop(final_df.index[final_df[3] == 'sport_test'], inplace=True)"
      ],
      "metadata": {
        "colab": {
          "base_uri": "https://localhost:8080/"
        },
        "id": "e0NEtGNjuePF",
        "outputId": "5ee27ae9-fba4-417b-d4bb-2084f581f76d"
      },
      "execution_count": null,
      "outputs": [
        {
          "output_type": "stream",
          "name": "stdout",
          "text": [
            "                                      0  \\\n",
            "1313  Dibaba breaks 5,000m world record   \n",
            "1314      2004: An Irish Athletics Year   \n",
            "\n",
            "                                                      1      2           3  \n",
            "1313  Ethiopia's Tirunesh Dibaba set a new world rec...  sport  sport_test  \n",
            "1314    won't be remembered as one of Irish athletic...  sport  sport_test  \n"
          ]
        }
      ]
    },
    {
      "cell_type": "code",
      "source": [
        "tt_df = pd.DataFrame()\n",
        "tt_df = final_df[final_df[3] == 'tech_test']\n",
        "print(tt_df)\n",
        "final_df.drop(final_df.index[final_df[3] == 'tech_test'], inplace=True)"
      ],
      "metadata": {
        "colab": {
          "base_uri": "https://localhost:8080/"
        },
        "id": "OZbfo5oJv-r3",
        "outputId": "27de1e74-191a-4449-e761-ec4c7dbf5065"
      },
      "execution_count": null,
      "outputs": [
        {
          "output_type": "stream",
          "name": "stdout",
          "text": [
            "                                     0  \\\n",
            "1824  Microsoft seeking spyware trojan   \n",
            "1825  Technology gets the creative bug   \n",
            "\n",
            "                                                      1     2          3  \n",
            "1824  Microsoft is investigating a trojan program th...  tech  tech_test  \n",
            "1825  The hi-tech and the arts worlds have for some ...  tech  tech_test  \n"
          ]
        }
      ]
    },
    {
      "cell_type": "code",
      "source": [
        "news_data = final_df[1]\n",
        "bt_data = bt_df[1]"
      ],
      "metadata": {
        "id": "lHiwPwOfwUgE"
      },
      "execution_count": null,
      "outputs": []
    },
    {
      "cell_type": "code",
      "source": [
        "# Define helper functions\n",
        "def get_top_n_words(n_top_words, count_vectorizer, text_data):\n",
        "    '''\n",
        "    returns a tuple of the top n words in a sample and their \n",
        "    accompanying counts, given a CountVectorizer object and text sample\n",
        "    '''\n",
        "    vectorized_headlines = count_vectorizer.fit_transform(text_data.values)\n",
        "    vectorized_total = np.sum(vectorized_headlines, axis=0)\n",
        "    word_indices = np.flip(np.argsort(vectorized_total)[0,:], 1)\n",
        "    word_values = np.flip(np.sort(vectorized_total)[0,:],1)\n",
        "    \n",
        "    word_vectors = np.zeros((n_top_words, vectorized_headlines.shape[1]))\n",
        "    for i in range(n_top_words):\n",
        "        word_vectors[i,word_indices[0,i]] = 1\n",
        "\n",
        "    words = [word[0].encode('ascii').decode('utf-8') for \n",
        "             word in count_vectorizer.inverse_transform(word_vectors)]\n",
        "\n",
        "    return (words, word_values[0,:n_top_words].tolist()[0])"
      ],
      "metadata": {
        "id": "Rn_AzF89CBU4"
      },
      "execution_count": null,
      "outputs": []
    },
    {
      "cell_type": "code",
      "source": [
        "count_vectorizer = CountVectorizer(stop_words='english')\n",
        "words, word_values = get_top_n_words(n_top_words=15,\n",
        "                                     count_vectorizer=count_vectorizer, \n",
        "                                     text_data=news_data)\n",
        "\n",
        "fig, ax = plt.subplots(figsize=(16,8))\n",
        "ax.bar(range(len(words)), word_values)\n",
        "ax.set_xticks(range(len(words)))\n",
        "ax.set_xticklabels(words, rotation='vertical')\n",
        "ax.set_title('Top words in headlines dataset (excluding stop words)')\n",
        "ax.set_xlabel('Word')\n",
        "ax.set_ylabel('Number of occurences')\n",
        "plt.show()"
      ],
      "metadata": {
        "colab": {
          "base_uri": "https://localhost:8080/",
          "height": 564
        },
        "id": "RkSvazWeCHnO",
        "outputId": "6be09dee-3349-426d-c666-811ab0f86f2f"
      },
      "execution_count": null,
      "outputs": [
        {
          "output_type": "display_data",
          "data": {
            "text/plain": [
              "<Figure size 1152x576 with 1 Axes>"
            ],
            "image/png": "[encoded data removed]"
          },
          "metadata": {
            "needs_background": "light"
          }
        }
      ]
    },
    {
      "cell_type": "code",
      "source": [
        "count_vectorizer = CountVectorizer(stop_words='english')\n",
        "words, word_values = get_top_n_words(n_top_words=15,\n",
        "                                     count_vectorizer=count_vectorizer, \n",
        "                                     text_data=bt_data)\n",
        "\n",
        "fig, ax = plt.subplots(figsize=(16,8))\n",
        "ax.bar(range(len(words)), word_values)\n",
        "ax.set_xticks(range(len(words)))\n",
        "ax.set_xticklabels(words, rotation='vertical')\n",
        "ax.set_title('Top words in headlines dataset (excluding stop words)')\n",
        "ax.set_xlabel('Word')\n",
        "ax.set_ylabel('Number of occurences')\n",
        "plt.show()"
      ],
      "metadata": {
        "colab": {
          "base_uri": "https://localhost:8080/",
          "height": 560
        },
        "id": "_IMJBdMN05v-",
        "outputId": "df86ec1c-bda8-4693-fda2-86609d4f700a"
      },
      "execution_count": null,
      "outputs": [
        {
          "output_type": "display_data",
          "data": {
            "text/plain": [
              "<Figure size 1152x576 with 1 Axes>"
            ],
            "image/png": "[encoded data removed]"
          },
          "metadata": {
            "needs_background": "light"
          }
        }
      ]
    },
    {
      "cell_type": "markdown",
      "source": [
        "### **Preprocessing**"
      ],
      "metadata": {
        "id": "qVL0FcNuo6lE"
      }
    },
    {
      "cell_type": "code",
      "metadata": {
        "_cell_guid": "19f1782b-f6f9-420c-a747-289c45e62687",
        "_uuid": "c1ae99d031c1248cedd74d84699d3c1cc6bd5078",
        "collapsed": true,
        "id": "IzFU_76wHG5O"
      },
      "source": [
        "def remove_punctuation(text):\n",
        "    '''a function for removing punctuation'''\n",
        "    import string\n",
        "    # replacing the punctuations with no space, \n",
        "    # which in effect deletes the punctuation marks \n",
        "    translator = text.translate(str.maketrans('', '', string.punctuation))\n",
        "    # return the text stripped of punctuation marks\n",
        "    return translator\n",
        " "
      ],
      "execution_count": null,
      "outputs": []
    },
    {
      "cell_type": "code",
      "metadata": {
        "_cell_guid": "d2fafe6b-9bf1-4e90-bd25-bb003c29e180",
        "_uuid": "426c5f09a587d9cd04f2159b7111907a0e3a25a1",
        "id": "nNZUipCAHG5O",
        "colab": {
          "base_uri": "https://localhost:8080/"
        },
        "outputId": "5035b4de-9e57-4edd-9b83-9ce07a28eba0"
      },
      "source": [
        "news_data = news_data.apply(remove_punctuation)\n",
        "news_data.head(10)"
      ],
      "execution_count": null,
      "outputs": [
        {
          "output_type": "execute_result",
          "data": {
            "text/plain": [
              "2     The dollar has hit its highest level against t...\n",
              "3     The gap between US exports and imports hit an ...\n",
              "4     British Airways has blamed high fuel prices fo...\n",
              "5     India has raised the limit for foreign direct ...\n",
              "6     A judge has dismissed an attempt by Russian oi...\n",
              "7     Ask Jeeves has become the third leading online...\n",
              "8     Indonesias government has confirmed it is cons...\n",
              "9     The Daily and Sunday Telegraph newspapers are ...\n",
              "10    Leisure group Rank could unveil plans to demer...\n",
              "11    The number of people out of work in Europes la...\n",
              "Name: 1, dtype: object"
            ]
          },
          "metadata": {},
          "execution_count": 26
        }
      ]
    },
    {
      "cell_type": "code",
      "source": [
        "bt_data = bt_data.apply(remove_punctuation)\n",
        "bt_data.head(10)"
      ],
      "metadata": {
        "colab": {
          "base_uri": "https://localhost:8080/"
        },
        "id": "G9W1IGni1H7F",
        "outputId": "f36ba1f8-f9bf-4f6d-e34a-6691dc7007a7"
      },
      "execution_count": null,
      "outputs": [
        {
          "output_type": "execute_result",
          "data": {
            "text/plain": [
              "0    The owners of embattled Russian oil giant Yuko...\n",
              "1    Quarterly profits at US media giant TimeWarner...\n",
              "Name: 1, dtype: object"
            ]
          },
          "metadata": {},
          "execution_count": 28
        }
      ]
    },
    {
      "cell_type": "code",
      "source": [
        "pt_data = pt_df[1]\n",
        "pt_data = pt_data.apply(remove_punctuation)\n",
        "pt_data.head(10)"
      ],
      "metadata": {
        "colab": {
          "base_uri": "https://localhost:8080/"
        },
        "id": "E4D7w64lkRSU",
        "outputId": "6d82ca27-a6fa-42ee-9936-521a8e592755"
      },
      "execution_count": null,
      "outputs": [
        {
          "output_type": "execute_result",
          "data": {
            "text/plain": [
              "896    Tony Blair lied when he took the UK to war so ...\n",
              "897    The Labour Party will hold its   autumn confer...\n",
              "Name: 1, dtype: object"
            ]
          },
          "metadata": {},
          "execution_count": 28
        }
      ]
    }
  ]
}